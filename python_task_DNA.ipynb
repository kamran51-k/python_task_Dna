{
 "cells": [
  {
   "cell_type": "code",
   "execution_count": 29,
   "id": "7a2ddf52",
   "metadata": {},
   "outputs": [
    {
     "name": "stdout",
     "output_type": "stream",
     "text": [
      "bir metn daxil edin: kamran\n",
      "bir metn daxil edin: kamn\n",
      "bir element secin: a,d,s,q: a\n",
      "hansi stringe elave olunsun? string1 yoxsa string2: string2\n",
      "secilen stringde hansi indekse artirsin?: 5\n",
      "error\n"
     ]
    }
   ],
   "source": [
    "string1 = input('bir metn daxil edin: ')\n",
    "string2 = input('bir metn daxil edin: ')\n",
    "choose = input('bir element secin: a,d,s,q: ')\n",
    "if choose == 'a':\n",
    "    a = input('hansi stringe elave olunsun? string1 yoxsa string2: ')\n",
    "    b = int(input('secilen stringde hansi indekse artirsin?: '))\n",
    "    if len(string1)-1 < b or len(string2)-1 < b:\n",
    "            print('error')  \n",
    "    elif a == 'string1':\n",
    "        c = string1[:b] + '-' + string1[b:]\n",
    "        print(c)\n",
    "    elif a == 'string2':\n",
    "        d = string2[:b] + '-' + string2[b:]\n",
    "        print(d)\n",
    "if choose == 'd':\n",
    "    e = input('hansi stringden silinsin? string1 yoxsa string2: ')\n",
    "    f = int(input('hansi indexden dashi silmek istiyirsiniz?: '))\n",
    "    if len(string1)-1 < f or len(string2)-1 < f:\n",
    "        print('error')\n",
    "    elif e == 'string1':  \n",
    "        g = string1.replace('-','')\n",
    "        print(g)\n",
    "    elif e == 'string2':  \n",
    "        h = string2.replace('-','')\n",
    "        print(h)\n",
    "           \n",
    "        "
   ]
  },
  {
   "cell_type": "code",
   "execution_count": null,
   "id": "7d769b70",
   "metadata": {},
   "outputs": [],
   "source": []
  },
  {
   "cell_type": "code",
   "execution_count": null,
   "id": "94d2d69e",
   "metadata": {},
   "outputs": [],
   "source": []
  }
 ],
 "metadata": {
  "kernelspec": {
   "display_name": "Python 3 (ipykernel)",
   "language": "python",
   "name": "python3"
  },
  "language_info": {
   "codemirror_mode": {
    "name": "ipython",
    "version": 3
   },
   "file_extension": ".py",
   "mimetype": "text/x-python",
   "name": "python",
   "nbconvert_exporter": "python",
   "pygments_lexer": "ipython3",
   "version": "3.8.10"
  }
 },
 "nbformat": 4,
 "nbformat_minor": 5
}
